{
 "cells": [
  {
   "cell_type": "code",
   "execution_count": 100,
   "metadata": {},
   "outputs": [],
   "source": [
    "import numpy as np\n",
    "from heat_equation import temp_result, Temp_list_analit_parallel\n",
    "import matplotlib.pyplot as plt\n",
    "import plotly.graph_objects as go"
   ]
  },
  {
   "cell_type": "code",
   "execution_count": 101,
   "metadata": {},
   "outputs": [],
   "source": [
    "def plot_temp(temp_data, length=1, t_max=100):\n",
    "    N_t, N_x = temp_data.shape\n",
    "    x = np.linspace(0, length, N_x)\n",
    "    t = np.linspace(0, t_max, N_t)\n",
    "    X, Y = np.meshgrid(x, t)\n",
    "    \n",
    "    fig = go.Figure()\n",
    "    fig.add_trace(go.Surface(z=temp_data, x=X, y=Y))\n",
    "\n",
    "    fig.update_layout(\n",
    "        title=\"3D График температуры\",\n",
    "        width=1000,\n",
    "        height=800,\n",
    "        scene=dict(\n",
    "            xaxis_title=\"x\",\n",
    "            yaxis_title=\"time\",\n",
    "            zaxis_title=\"Temperature\",\n",
    "            zaxis=dict(range=[0, np.max(temp_data)])  \n",
    "        ),\n",
    "    )\n",
    "    fig.show()\n",
    "\n",
    "def compute_error(result, exact_solution, t):\n",
    "    error = 0\n",
    "    for x in range(1, len(result[t])-1):\n",
    "        error_ = abs((result[t][x] - exact_solution[t][x]) / exact_solution[t][x])\n",
    "        if error < error_:\n",
    "            error = error_\n",
    "    return error\n",
    "\n",
    "def compute_s(result, t_n):\n",
    "    s = 0\n",
    "    for x in range(len(result[t_n])):\n",
    "        s_ = abs((result[t_n][x] - result[t_n - 1][x]) / result[t_n][x])\n",
    "        if s < s_:\n",
    "            s = s_\n",
    "    return s\n"
   ]
  },
  {
   "cell_type": "markdown",
   "metadata": {},
   "source": [
    "# Аналитиеское решение"
   ]
  },
  {
   "cell_type": "code",
   "execution_count": 102,
   "metadata": {},
   "outputs": [],
   "source": [
    "length = 20\n",
    "t_max = 200\n",
    "a = 1\n",
    "u_0 = 100\n",
    "n_x = 100\n",
    "n_t = 500\n",
    "terms = 100"
   ]
  },
  {
   "cell_type": "code",
   "execution_count": 103,
   "metadata": {},
   "outputs": [],
   "source": [
    "Temp_analit = Temp_list_analit_parallel(n_x, n_t, length, t_max, a, u_0, terms)\n",
    "# plot_temp(Temp_analit, length, t_max)"
   ]
  },
  {
   "cell_type": "markdown",
   "metadata": {},
   "source": [
    "# Численное решение"
   ]
  },
  {
   "cell_type": "code",
   "execution_count": 104,
   "metadata": {},
   "outputs": [],
   "source": [
    "# Euler_method == 0, Nicholson_Crank_method == 1, Nicholson_Crank_method_modified == 2\n",
    "\n",
    "length = 20     #40\n",
    "t_max = 200\n",
    "a = 1\n",
    "u_0 = 100\n",
    "n_x = 90\n",
    "n_t = 8000       #2500\n",
    "\n",
    "initial_conditions = np.full(n_x, u_0, dtype=np.float64)\n",
    "initial_conditions[0] = 0\n",
    "initial_conditions[-1] = 0"
   ]
  },
  {
   "cell_type": "markdown",
   "metadata": {},
   "source": [
    "## Метод Эйлера"
   ]
  },
  {
   "cell_type": "code",
   "execution_count": 105,
   "metadata": {},
   "outputs": [],
   "source": [
    "result_euler = np.zeros((n_t, n_x), dtype=np.float64)\n",
    "temp_result(0, initial_conditions, result_euler, \n",
    "            a, n_x, n_t,\n",
    "            length, t_max)"
   ]
  },
  {
   "cell_type": "code",
   "execution_count": 106,
   "metadata": {},
   "outputs": [],
   "source": [
    "# plot_temp(result_euler, length, t_max)"
   ]
  },
  {
   "cell_type": "markdown",
   "metadata": {},
   "source": [
    "## Метод Кранка-Николсона"
   ]
  },
  {
   "cell_type": "code",
   "execution_count": 107,
   "metadata": {},
   "outputs": [],
   "source": [
    "result_crank = np.zeros((n_t, n_x), dtype=np.float64)\n",
    "temp_result(1, initial_conditions, result_crank,\n",
    "                        a, n_x, n_t,\n",
    "                        length, t_max)"
   ]
  },
  {
   "cell_type": "code",
   "execution_count": 108,
   "metadata": {},
   "outputs": [],
   "source": [
    "# plot_temp(result_crank, length, t_max)"
   ]
  },
  {
   "cell_type": "markdown",
   "metadata": {},
   "source": [
    "## Начальное условие sin(pi * x / L)"
   ]
  },
  {
   "cell_type": "code",
   "execution_count": 109,
   "metadata": {},
   "outputs": [],
   "source": [
    "# Начальное условие sin(pi * x / L)\n",
    "\n",
    "initial_conditions_sin = [np.sin(np.pi * x / length) for x in np.linspace(0, length, n_x)]"
   ]
  },
  {
   "cell_type": "code",
   "execution_count": 110,
   "metadata": {},
   "outputs": [],
   "source": [
    "result_euler_sin = np.zeros((n_t, n_x), dtype=np.float64)\n",
    "result_crank_sin = np.zeros((n_t, n_x), dtype=np.float64)\n",
    "\n",
    "\n",
    "temp_result(0, initial_conditions_sin, result_euler_sin,\n",
    "            a, n_x, n_t,\n",
    "            length, t_max)\n",
    "\n",
    "temp_result(1, initial_conditions_sin, result_crank_sin,\n",
    "            a, n_x, n_t,\n",
    "            length, t_max)\n"
   ]
  },
  {
   "cell_type": "code",
   "execution_count": 111,
   "metadata": {},
   "outputs": [],
   "source": [
    "# plot_temp(result_euler_sin, length, t_max)"
   ]
  },
  {
   "cell_type": "code",
   "execution_count": 112,
   "metadata": {},
   "outputs": [],
   "source": [
    "# plot_temp(result_crank_sin, length, t_max)"
   ]
  },
  {
   "cell_type": "markdown",
   "metadata": {},
   "source": [
    "# Построение ошибок"
   ]
  },
  {
   "cell_type": "code",
   "execution_count": 113,
   "metadata": {},
   "outputs": [],
   "source": [
    "def error_plot(solver_number, t_max, n_x, n_t):\n",
    "    all_solvers = ['Euler_method', 'Nicholson_Crank_method']\n",
    "    length = 20     #40\n",
    "    a = 1\n",
    "    u_0 = 100\n",
    "\n",
    "    initial_conditions = np.full(n_x, u_0, dtype=np.float64)\n",
    "    initial_conditions[0] = 0\n",
    "    initial_conditions[-1] = 0\n",
    "\n",
    "    time = np.linspace(0, t_max, n_t)\n",
    "    error_mas = []\n",
    "\n",
    "    result = np.zeros((n_t, n_x), dtype=np.float64)\n",
    "    temp_result(solver_number, initial_conditions, result, \n",
    "                a, n_x, n_t,\n",
    "                length, t_max)\n",
    "    \n",
    "    Temp_analit = Temp_list_analit_parallel(n_x, n_t, length, t_max, a, u_0, terms)\n",
    "    \n",
    "    for t in range(n_t):\n",
    "        error_mas.append(compute_error(result, Temp_analit, t))\n",
    "\n",
    "    plt.figure(figsize=(10, 6)) \n",
    "    plt.plot(time, error_mas, label=all_solvers[solver_number])\n",
    "    plt.xlim(0.01, t_max)  # Ограничиваем ось Y\n",
    "\n",
    "\n",
    "    \n",
    "    plt.xlabel('Time')\n",
    "    plt.ylabel('Error')\n",
    "    plt.legend()\n",
    "    plt.grid(True)\n",
    "    plt.show()"
   ]
  },
  {
   "cell_type": "code",
   "execution_count": 114,
   "metadata": {},
   "outputs": [],
   "source": [
    "def error_fixed_plot(solver_number, n_x, t_f, e_0):\n",
    "    all_solvers = ['Euler_method', 'Nicholson_Crank_method']\n",
    "    length = 20     #40\n",
    "    a = 1\n",
    "    u_0 = 100\n",
    "    n_t = 10\n",
    "\n",
    "    initial_conditions = np.full(n_x, u_0, dtype=np.float64)\n",
    "    initial_conditions[0] = 0\n",
    "    initial_conditions[-1] = 0\n",
    "\n",
    "    result = np.zeros((n_t, n_x), dtype=np.float64)\n",
    "\n",
    "    temp_result(solver_number, initial_conditions, result,\n",
    "                a, n_x, n_t,\n",
    "                length, t_f)\n",
    "    \n",
    "\n",
    "    Temp_analit = Temp_list_analit_parallel(n_x, n_t, length, t_f, a, u_0, terms)\n",
    "\n",
    "    while(compute_error(result, Temp_analit, n_t-1) > e_0):\n",
    "            n_t += 10\n",
    "            result = np.zeros((n_t, n_x), dtype=np.float64)\n",
    "            temp_result(solver_number, initial_conditions, result,\n",
    "                        a, n_x, n_t,\n",
    "                        length, t_f)\n",
    "            Temp_analit = Temp_list_analit_parallel(n_x, n_t, length, t_f, a, u_0, terms)\n",
    "    \n",
    "    return n_t\n",
    "\n"
   ]
  },
  {
   "cell_type": "code",
   "execution_count": 115,
   "metadata": {},
   "outputs": [],
   "source": [
    "def s_plot(solver_number, t_max, n_x, n_t, s_0 = 0.01):\n",
    "    all_solvers = ['Euler_method', 'Nicholson_Crank_method']\n",
    "    length = 20     #40\n",
    "    a = 1\n",
    "    u_0 = 100\n",
    "\n",
    "\n",
    "    initial_conditions = np.full(n_x, u_0, dtype=np.float64)\n",
    "    initial_conditions[0] = 0\n",
    "    initial_conditions[-1] = 0\n",
    "\n",
    "    time = np.linspace(0, t_max, n_t-1)\n",
    "    s_mas = []\n",
    "    s_0_mas = []\n",
    "\n",
    "    result = np.zeros((n_t, n_x), dtype=np.float64)\n",
    "    temp_result(solver_number, initial_conditions, result,\n",
    "                a, n_x, n_t,\n",
    "                length, t_max)\n",
    "    \n",
    "    for t in range(1, n_t):\n",
    "        s_mas.append(compute_s(result, t))\n",
    "        s_0_mas.append(s_0)\n",
    "\n",
    "    plt.figure(figsize=(10, 6)) \n",
    "    plt.plot(time, s_mas, label=all_solvers[solver_number])\n",
    "    plt.plot(time, s_0_mas, label='S_0')\n",
    "    plt.ylim(s_0 / 2, s_0 * 3 / 2)  # Ограничиваем ось Y\n",
    "\n",
    "    plt.xlabel('time')\n",
    "    plt.ylabel('S')\n",
    "    plt.legend()\n",
    "    plt.grid(True)\n",
    "    plt.show()"
   ]
  },
  {
   "cell_type": "code",
   "execution_count": 116,
   "metadata": {},
   "outputs": [],
   "source": [
    "def dichotomy(x_array, y_array, y0, tol=1e-6, max_iter=100):\n",
    "    left = 0\n",
    "    right = len(x_array) - 1\n",
    "    \n",
    "    for _ in range(max_iter):\n",
    "        mid = (left + right) // 2\n",
    "        y_mid = y_array[mid]\n",
    "        \n",
    "        if abs(y_mid - y0) < tol:\n",
    "            return mid\n",
    "        \n",
    "        if (y_array[left] - y0) * (y_mid - y0) > 0:\n",
    "            left = mid\n",
    "        else:\n",
    "            right = mid\n",
    "    return mid"
   ]
  },
  {
   "cell_type": "code",
   "execution_count": 117,
   "metadata": {},
   "outputs": [],
   "source": [
    "t_max = 50\n",
    "n_x = 50\n",
    "n_t = 900\n",
    "# error_plot(1, t_max, n_x, n_t)"
   ]
  },
  {
   "cell_type": "code",
   "execution_count": 118,
   "metadata": {},
   "outputs": [],
   "source": [
    "t_max = 10\n",
    "n_x = 100\n",
    "n_t = 500\n",
    "# s_plot(0, t_max, n_x, n_t)"
   ]
  },
  {
   "cell_type": "code",
   "execution_count": 119,
   "metadata": {},
   "outputs": [],
   "source": [
    "t_max = 50\n",
    "n_x = 100\n",
    "n_t = 2500\n",
    "s_0 = 0.0005\n",
    "# s_plot(1, t_max, n_x, n_t, s_0)"
   ]
  },
  {
   "cell_type": "code",
   "execution_count": 120,
   "metadata": {},
   "outputs": [
    {
     "name": "stdout",
     "output_type": "stream",
     "text": [
      "t_f = 32.79311724689876\n"
     ]
    },
    {
     "name": "stderr",
     "output_type": "stream",
     "text": [
      "/tmp/ipykernel_55340/3627036580.py:34: RuntimeWarning:\n",
      "\n",
      "invalid value encountered in scalar divide\n",
      "\n"
     ]
    }
   ],
   "source": [
    "# Зададим S0 и найдем момент времени, когда такая степень стационарности достигается\n",
    "\n",
    "all_solvers = ['Euler_method', 'Nicholson_Crunk_method']\n",
    "length = 20     #40\n",
    "\n",
    "initial_conditions = np.full(n_x, u_0, dtype=np.float64)\n",
    "initial_conditions[0] = 0\n",
    "initial_conditions[-1] = 0\n",
    "\n",
    "time = np.linspace(0, t_max, n_t-1)\n",
    "s_mas = []\n",
    "s_0_mas = []\n",
    "\n",
    "result = np.zeros((n_t, n_x), dtype=np.float64)\n",
    "temp_result(1, initial_conditions, result,\n",
    "            a, n_x, n_t,\n",
    "            length, t_max)\n",
    "\n",
    "for t in range(1, n_t):\n",
    "    s_mas.append(compute_s(result, t))\n",
    "\n",
    "time = np.linspace(0, t_max, n_t)\n",
    "t_f = time[dichotomy(time, s_mas, s_0)]\n",
    "print(f\"t_f = {t_f}\")\n",
    "\n"
   ]
  },
  {
   "cell_type": "code",
   "execution_count": 121,
   "metadata": {},
   "outputs": [
    {
     "name": "stdout",
     "output_type": "stream",
     "text": [
      "340\n"
     ]
    }
   ],
   "source": [
    "# Зададим E0 \n",
    "e_0 = 1e-3\n",
    "n_t_optimal = error_fixed_plot(1, n_x, t_f, e_0)\n",
    "print(n_t_optimal)\n"
   ]
  },
  {
   "cell_type": "code",
   "execution_count": null,
   "metadata": {},
   "outputs": [],
   "source": []
  },
  {
   "cell_type": "code",
   "execution_count": null,
   "metadata": {},
   "outputs": [],
   "source": []
  },
  {
   "cell_type": "markdown",
   "metadata": {},
   "source": [
    "# Задание 5"
   ]
  },
  {
   "cell_type": "code",
   "execution_count": 122,
   "metadata": {},
   "outputs": [],
   "source": [
    "all_solvers = ['Euler_method', 'Nicholson_Crunk_method']\n",
    "length = 20     #40\n",
    "t_max = 100\n",
    "a = 0.9\n",
    "u_0 = 100\n",
    "u_1 = 50\n",
    "n_x = 100\n",
    "n_t = 8500       #2500\n",
    "\n",
    "initial_conditions = []\n",
    "for i in range(n_x):\n",
    "    if i < n_x / 2:\n",
    "        initial_conditions.append(u_0)\n",
    "    else:\n",
    "        initial_conditions.append(u_1)\n",
    "\n",
    "initial_conditions[0] = 0\n",
    "initial_conditions[-1] = 0"
   ]
  },
  {
   "cell_type": "code",
   "execution_count": 123,
   "metadata": {},
   "outputs": [],
   "source": [
    "result = np.zeros((n_t, n_x), dtype=np.float64)\n",
    "temp_result(1, initial_conditions, result,\n",
    "            a, n_x, n_t,\n",
    "            length, t_max)\n",
    "\n",
    "# plot_temp(result, length, t_max)"
   ]
  },
  {
   "cell_type": "code",
   "execution_count": 124,
   "metadata": {},
   "outputs": [],
   "source": [
    "# Задача Ньютона\n",
    "\n",
    "all_solvers = ['Euler_method', 'Nicholson_Crunk_method', 'Nicholson_Crunk_method_modified']\n",
    "length = 20     #40\n",
    "t_max = 200\n",
    "a = 0.5\n",
    "u_0 = 100\n",
    "\n",
    "h = 0.1\n",
    "u_c = 20\n",
    "\n",
    "n_x = 90\n",
    "n_t = 4000       #2500\n",
    "\n",
    "initial_conditions = np.full(n_x, u_0, dtype=np.float64)\n",
    "initial_conditions[0] = 0\n",
    "initial_conditions[-1] = 0"
   ]
  },
  {
   "cell_type": "code",
   "execution_count": 125,
   "metadata": {},
   "outputs": [],
   "source": [
    "# 1 стержень\n",
    "\n",
    "result = np.zeros((n_t, n_x), dtype=np.float64)\n",
    "result_crank = temp_result(2, initial_conditions, result, \n",
    "                        a, n_x, n_t,\n",
    "                        length, t_max,\n",
    "                        h, u_c)\n",
    "# plot_temp(result, length, t_max)"
   ]
  },
  {
   "cell_type": "code",
   "execution_count": 126,
   "metadata": {},
   "outputs": [],
   "source": [
    "initial_conditions = []\n",
    "for i in range(n_x):\n",
    "    if i < n_x / 2:\n",
    "        initial_conditions.append(u_0)\n",
    "    else:\n",
    "        initial_conditions.append(u_1)\n",
    "\n",
    "initial_conditions[0] = 0\n",
    "initial_conditions[-1] = 0\n",
    "\n",
    "\n",
    "result = np.zeros((n_t, n_x), dtype=np.float64)\n",
    "result_crank = temp_result(2, initial_conditions, result, \n",
    "                        a, n_x, n_t,\n",
    "                        length, t_max,\n",
    "                        h, u_c)\n",
    "\n",
    "# plot_temp(result, length, t_max)"
   ]
  },
  {
   "cell_type": "code",
   "execution_count": null,
   "metadata": {},
   "outputs": [],
   "source": []
  },
  {
   "cell_type": "code",
   "execution_count": null,
   "metadata": {},
   "outputs": [],
   "source": []
  },
  {
   "cell_type": "code",
   "execution_count": null,
   "metadata": {},
   "outputs": [],
   "source": []
  }
 ],
 "metadata": {
  "kernelspec": {
   "display_name": "base",
   "language": "python",
   "name": "python3"
  },
  "language_info": {
   "codemirror_mode": {
    "name": "ipython",
    "version": 3
   },
   "file_extension": ".py",
   "mimetype": "text/x-python",
   "name": "python",
   "nbconvert_exporter": "python",
   "pygments_lexer": "ipython3",
   "version": "3.12.2"
  }
 },
 "nbformat": 4,
 "nbformat_minor": 2
}
